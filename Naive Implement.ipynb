{
 "cells": [
  {
   "cell_type": "code",
   "execution_count": 1,
   "id": "2044e894",
   "metadata": {},
   "outputs": [],
   "source": [
    "import cv2\n",
    "import mediapipe as mp\n",
    "import math\n",
    "import numpy as np\n",
    "import matplotlib.pyplot as plt\n",
    "from IPython.display import display, Image\n",
    "import ipywidgets as widgets\n",
    "import threading\n",
    "import ipdb\n",
    "from scripts.hand_utils import *\n"
   ]
  },
  {
   "cell_type": "code",
   "execution_count": 2,
   "id": "0168d96b",
   "metadata": {},
   "outputs": [],
   "source": [
    "import time\n",
    "from picamera import PiCamera\n",
    "from picamera.array import PiRGBArray"
   ]
  },
  {
   "cell_type": "code",
   "execution_count": null,
   "id": "b5c2bfce",
   "metadata": {},
   "outputs": [],
   "source": []
  },
  {
   "cell_type": "code",
   "execution_count": 3,
   "id": "c55e1507",
   "metadata": {},
   "outputs": [],
   "source": [
    "# Stop button\n",
    "# ================\n",
    "stopButton1 = widgets.ToggleButton(\n",
    "    value=False,\n",
    "    description='Stop',\n",
    "    disabled=False,\n",
    "    button_style='danger', # 'success', 'info', 'warning', 'danger' or ''\n",
    "    tooltip='Description',\n",
    "    icon='square' # (FontAwesome names without the `fa-` prefix)\n",
    ")"
   ]
  },
  {
   "cell_type": "code",
   "execution_count": 4,
   "id": "5f6dcd95",
   "metadata": {},
   "outputs": [],
   "source": [
    "stopButton2 = widgets.ToggleButton(\n",
    "    value=False,\n",
    "    description='Stop',\n",
    "    disabled=False,\n",
    "    button_style='danger', # 'success', 'info', 'warning', 'danger' or ''\n",
    "    tooltip='Description',\n",
    "    icon='square' # (FontAwesome names without the `fa-` prefix)\n",
    ")"
   ]
  },
  {
   "cell_type": "code",
   "execution_count": 5,
   "id": "23a733dc",
   "metadata": {},
   "outputs": [],
   "source": [
    "def main_csi(button):\n",
    "    hand_sol = mp.solutions.hands\n",
    "    hand_proc = hand_sol.Hands(max_num_hands=1)\n",
    "    hand_drawer = mp.solutions.drawing_utils\n",
    "    display_handle=display(None, display_id=True)\n",
    "    \n",
    "    camera = PiCamera()\n",
    "    camera.resolution = (640, 480)\n",
    "\n",
    "    rawCapture = PiRGBArray(camera, size=(640, 480))\n",
    "    \n",
    "    time.sleep(0.1)\n",
    "    for frame in camera.capture_continuous(rawCapture, format=\"bgr\", use_video_port=False):\n",
    "        # grab the raw NumPy array representing the image, then initialize the timestamp\n",
    "        # and occupied/unoccupied text\n",
    "        img = frame.array.copy()\n",
    "        img, result_str = procFrame(img, hand_sol, hand_proc, hand_drawer)\n",
    "        _, img = cv2.imencode('.jpeg', img)\n",
    "        display_handle.update(Image(data=img.tobytes()))\n",
    "        rawCapture.seek(0)\n",
    "        rawCapture.truncate()\n",
    "        if button.value==True:\n",
    "            rawCapture.seek(0)\n",
    "            rawCapture.truncate()\n",
    "            display_handle.update(None)\n",
    "            camera.close()\n",
    "            break"
   ]
  },
  {
   "cell_type": "code",
   "execution_count": 6,
   "id": "c9265787",
   "metadata": {},
   "outputs": [],
   "source": [
    "def main(button, cam_src=0):\n",
    "    hand_sol = mp.solutions.hands\n",
    "    hand_proc = hand_sol.Hands(max_num_hands=1)\n",
    "    hand_drawer = mp.solutions.drawing_utils\n",
    "    display_handle=display(None, display_id=True)\n",
    "    cam = cv2.VideoCapture(cam_src)\n",
    "#     if cam_src>0:\n",
    "#         cam.set(cv2.CAP_PROP_BRIGHTNESS, 100)\n",
    "    while cam.isOpened():\n",
    "        suc, img = cam.read()\n",
    "        img, result_str = procFrame(img, hand_sol, hand_proc, hand_drawer)\n",
    "        if result_str is not None:\n",
    "            !echo '{result_str}' >> pt_color.txt\n",
    "#         img = cv2.flip(img, 1)\n",
    "        _, img = cv2.imencode('.jpeg', img)\n",
    "        display_handle.update(Image(data=img.tobytes()))\n",
    "        if button.value==True:\n",
    "            cam.release()\n",
    "            display_handle.update(None)\n",
    "            del display_handle"
   ]
  },
  {
   "cell_type": "code",
   "execution_count": 7,
   "id": "8ad2d6b0",
   "metadata": {},
   "outputs": [
    {
     "data": {
      "application/vnd.jupyter.widget-view+json": {
       "model_id": "f69edf137cab44f5be8c200dba5be60a",
       "version_major": 2,
       "version_minor": 0
      },
      "text/plain": [
       "ToggleButton(value=False, button_style='danger', description='Stop', icon='square', tooltip='Description')"
      ]
     },
     "metadata": {},
     "output_type": "display_data"
    },
    {
     "data": {
      "text/plain": [
       "None"
      ]
     },
     "metadata": {},
     "output_type": "display_data"
    },
    {
     "name": "stderr",
     "output_type": "stream",
     "text": [
      "INFO: Created TensorFlow Lite XNNPACK delegate for CPU.\n"
     ]
    },
    {
     "name": "stdout",
     "output_type": "stream",
     "text": [
      "color: 蓝\t h: 107.3\t s: 42.9\t v: 111.4\n",
      "color: 蓝\t h: 106.4\t s: 45.4\t v: 112.3\n",
      "color: 蓝\t h: 104.4\t s: 50.2\t v: 118.3\n",
      "color: 蓝\t h: 105.2\t s: 47.7\t v: 118.6\n",
      "color: 蓝\t h: 106.6\t s: 46.4\t v: 116.1\n",
      "color: 蓝\t h: 107.2\t s: 50.2\t v: 111.1\n",
      "color: 蓝\t h: 108.2\t s: 39.9\t v: 116.9\n",
      "color: 紫\t h: 130.4\t s: 177.0\t v: 59.0\n",
      "color: 紫\t h: 129.1\t s: 189.5\t v: 56.1\n",
      "color: 紫\t h: 129.0\t s: 186.8\t v: 56.2\n",
      "color: 紫\t h: 129.1\t s: 181.4\t v: 57.7\n",
      "color: 紫\t h: 128.9\t s: 183.9\t v: 57.4\n",
      "color: 紫\t h: 128.6\t s: 184.8\t v: 57.6\n",
      "color: 紫\t h: 128.5\t s: 185.6\t v: 57.7\n",
      "color: 紫\t h: 128.3\t s: 187.8\t v: 57.6\n",
      "color: 紫\t h: 128.1\t s: 183.2\t v: 59.1\n",
      "color: 紫\t h: 128.5\t s: 149.7\t v: 67.7\n",
      "color: 灰\t h: 115.4\t s: 23.4\t v: 119.8\n",
      "color: 灰\t h: 111.2\t s: 23.6\t v: 126.3\n",
      "color: 灰\t h: 113.2\t s: 23.2\t v: 124.7\n",
      "color: 灰\t h: 111.7\t s: 24.5\t v: 125.0\n",
      "color: 灰\t h: 113.3\t s: 23.9\t v: 124.5\n",
      "color: 灰\t h: 112.7\t s: 23.9\t v: 124.9\n",
      "color: 灰\t h: 111.2\t s: 25.2\t v: 125.0\n",
      "color: 灰\t h: 46.0\t s: 10.6\t v: 138.6\n",
      "color: 灰\t h: 84.4\t s: 16.2\t v: 122.3\n",
      "color: 蓝\t h: 104.8\t s: 37.8\t v: 126.2\n",
      "color: 蓝\t h: 104.1\t s: 40.5\t v: 124.9\n",
      "color: 青\t h: 81.0\t s: 177.8\t v: 64.2\n",
      "color: 绿\t h: 71.8\t s: 135.6\t v: 67.9\n",
      "color: 黄\t h: 27.6\t s: 165.3\t v: 85.0\n",
      "color: 灰\t h: 66.1\t s:  9.9\t v: 138.8\n",
      "color: 灰\t h: 67.0\t s: 10.5\t v: 147.4\n",
      "color: 灰\t h: 68.5\t s: 11.4\t v: 144.6\n",
      "color: 灰\t h: 73.7\t s: 12.0\t v: 145.5\n",
      "color: 灰\t h: 74.9\t s: 11.8\t v: 144.6\n",
      "color: 灰\t h: 79.2\t s: 14.8\t v: 141.5\n",
      "color: 灰\t h: 83.0\t s: 16.0\t v: 138.1\n",
      "color: 灰\t h: 80.4\t s: 14.6\t v: 137.9\n",
      "color: 灰\t h: 76.9\t s: 12.1\t v: 143.3\n",
      "color: 灰\t h: 84.6\t s: 15.6\t v: 131.8\n",
      "color: 灰\t h: 79.9\t s: 15.8\t v: 144.2\n",
      "color: 灰\t h: 81.1\t s: 17.5\t v: 144.2\n",
      "color: 灰\t h: 80.1\t s: 16.1\t v: 144.7\n",
      "color: 灰\t h: 80.8\t s: 13.7\t v: 141.9\n",
      "color: 绿\t h: 74.5\t s: 144.6\t v: 68.8\n"
     ]
    }
   ],
   "source": [
    "display(stopButton1)\n",
    "thread = threading.Thread(target=main_csi, args=(stopButton1,))\n",
    "thread.start()"
   ]
  },
  {
   "cell_type": "code",
   "execution_count": 23,
   "id": "f09a4975",
   "metadata": {},
   "outputs": [
    {
     "data": {
      "application/vnd.jupyter.widget-view+json": {
       "model_id": "435846b85a7e4f348d01dcfc41312013",
       "version_major": 2,
       "version_minor": 0
      },
      "text/plain": [
       "ToggleButton(value=False, button_style='danger', description='Stop', icon='square', tooltip='Description')"
      ]
     },
     "metadata": {},
     "output_type": "display_data"
    },
    {
     "data": {
      "text/plain": [
       "None"
      ]
     },
     "metadata": {},
     "output_type": "display_data"
    },
    {
     "name": "stderr",
     "output_type": "stream",
     "text": [
      "INFO: Created TensorFlow Lite XNNPACK delegate for CPU.\n"
     ]
    },
    {
     "name": "stdout",
     "output_type": "stream",
     "text": [
      "color: 绿\t h: 64.7\t s: 40.3\t v: 168.4\n",
      "color: 绿\t h: 70.6\t s: 38.4\t v: 198.3\n",
      "color: 绿\t h: 65.5\t s: 37.4\t v: 188.5\n",
      "color: 绿\t h: 67.2\t s: 38.2\t v: 183.5\n",
      "color: 绿\t h: 66.3\t s: 38.3\t v: 185.9\n",
      "color: 绿\t h: 67.1\t s: 38.4\t v: 185.8\n",
      "color: 绿\t h: 66.7\t s: 38.3\t v: 185.9\n",
      "color: 绿\t h: 70.8\t s: 44.7\t v: 181.9\n",
      "color: 绿\t h: 73.8\t s: 57.5\t v: 119.8\n",
      "color: 青\t h: 81.9\t s: 102.0\t v: 77.5\n",
      "color: 青\t h: 78.4\t s: 65.2\t v: 130.0\n",
      "color: 青\t h: 77.3\t s: 60.7\t v: 152.1\n",
      "color: 青\t h: 78.2\t s: 63.4\t v: 159.5\n",
      "color: 青\t h: 78.4\t s: 61.4\t v: 165.3\n",
      "color: 绿\t h: 75.9\t s: 58.9\t v: 166.2\n",
      "color: 绿\t h: 73.6\t s: 52.8\t v: 173.6\n",
      "color: 绿\t h: 70.6\t s: 41.8\t v: 187.7\n",
      "color: 绿\t h: 69.5\t s: 40.3\t v: 185.9\n",
      "color: 绿\t h: 69.6\t s: 39.9\t v: 189.9\n",
      "color: 绿\t h: 69.5\t s: 39.3\t v: 187.3\n",
      "color: 绿\t h: 67.4\t s: 35.9\t v: 184.1\n",
      "color: 青\t h: 80.4\t s: 36.3\t v: 153.9\n",
      "color: 青\t h: 80.1\t s: 39.0\t v: 162.2\n",
      "color: 青\t h: 80.0\t s: 38.2\t v: 162.3\n",
      "color: 青\t h: 79.9\t s: 37.6\t v: 161.3\n",
      "color: 青\t h: 79.3\t s: 36.7\t v: 161.7\n",
      "color: 青\t h: 80.1\t s: 37.5\t v: 161.4\n",
      "color: 青\t h: 79.8\t s: 37.4\t v: 157.1\n",
      "color: 青\t h: 79.9\t s: 37.4\t v: 154.8\n",
      "color: 青\t h: 79.2\t s: 36.2\t v: 154.6\n",
      "color: 绿\t h: 61.1\t s: 42.8\t v: 156.1\n",
      "color: 青\t h: 81.3\t s: 113.7\t v: 65.7\n",
      "color: 青\t h: 80.8\t s: 82.3\t v: 98.7\n",
      "color: 青\t h: 81.2\t s: 82.7\t v: 96.6\n",
      "color: 青\t h: 82.0\t s: 92.1\t v: 86.3\n",
      "color: 青\t h: 80.2\t s: 147.3\t v: 48.4\n",
      "color: 青\t h: 80.1\t s: 107.1\t v: 69.5\n",
      "color: 青\t h: 79.8\t s: 107.1\t v: 70.4\n",
      "color: 青\t h: 80.8\t s: 74.0\t v: 98.6\n",
      "color: 青\t h: 79.9\t s: 76.5\t v: 97.0\n",
      "color: 青\t h: 81.5\t s: 86.5\t v: 91.2\n",
      "color: 青\t h: 79.4\t s: 66.6\t v: 107.4\n",
      "color: 青\t h: 79.2\t s: 64.5\t v: 109.2\n",
      "color: 绿\t h: 71.5\t s: 51.1\t v: 164.1\n",
      "color: 青\t h: 80.7\t s: 36.5\t v: 136.3\n",
      "color: 绿\t h: 75.5\t s: 44.3\t v: 203.3\n",
      "color: 绿\t h: 65.5\t s: 38.0\t v: 160.8\n",
      "color: 绿\t h: 63.1\t s: 34.8\t v: 166.2\n",
      "color: 绿\t h: 62.7\t s: 35.0\t v: 169.4\n",
      "color: 绿\t h: 63.1\t s: 35.5\t v: 169.3\n",
      "color: 绿\t h: 68.9\t s: 47.5\t v: 118.8\n",
      "color: 灰\t h: 73.9\t s: 43.7\t v: 84.6\n",
      "color: 绿\t h: 69.9\t s: 43.7\t v: 115.2\n"
     ]
    }
   ],
   "source": [
    "display(stopButton2)\n",
    "thread = threading.Thread(target=main_csi, args=(stopButton2,))\n",
    "thread.start()"
   ]
  },
  {
   "cell_type": "code",
   "execution_count": 9,
   "id": "9817282c",
   "metadata": {},
   "outputs": [
    {
     "data": {
      "application/vnd.jupyter.widget-view+json": {
       "model_id": "2af95d0856ac44ddb77ea2efb9a7c710",
       "version_major": 2,
       "version_minor": 0
      },
      "text/plain": [
       "ToggleButton(value=False, button_style='danger', description='Stop', icon='square', tooltip='Description')"
      ]
     },
     "metadata": {},
     "output_type": "display_data"
    },
    {
     "data": {
      "text/plain": [
       "None"
      ]
     },
     "metadata": {},
     "output_type": "display_data"
    }
   ],
   "source": [
    "display(stopButton1)\n",
    "# main(stopButton)\n",
    "thread = threading.Thread(target=main, args=(stopButton1,2))\n",
    "thread.start()"
   ]
  },
  {
   "cell_type": "code",
   "execution_count": 9,
   "id": "479eea2a",
   "metadata": {
    "scrolled": false
   },
   "outputs": [
    {
     "data": {
      "application/vnd.jupyter.widget-view+json": {
       "model_id": "4c60e46b61104e809ee2a4b21398f830",
       "version_major": 2,
       "version_minor": 0
      },
      "text/plain": [
       "ToggleButton(value=True, button_style='danger', description='Stop', icon='square', tooltip='Description')"
      ]
     },
     "metadata": {},
     "output_type": "display_data"
    },
    {
     "data": {
      "application/vnd.jupyter.widget-view+json": {
       "model_id": "4c60e46b61104e809ee2a4b21398f830",
       "version_major": 2,
       "version_minor": 0
      },
      "text/plain": [
       "ToggleButton(value=True, button_style='danger', description='Stop', icon='square', tooltip='Description')"
      ]
     },
     "metadata": {},
     "output_type": "display_data"
    },
    {
     "data": {
      "text/plain": [
       "None"
      ]
     },
     "metadata": {},
     "output_type": "display_data"
    },
    {
     "data": {
      "text/plain": [
       "None"
      ]
     },
     "metadata": {},
     "output_type": "display_data"
    }
   ],
   "source": [
    "display(stopButton1)\n",
    "# main(stopButton)\n",
    "thread = threading.Thread(target=main, args=(stopButton1,0))\n",
    "thread.start()\n",
    "\n",
    "\n",
    "\n",
    "# display(stopButton2)\n",
    "# thread = threading.Thread(target=main_csi, args=(stopButton2,))\n",
    "# thread.start()"
   ]
  },
  {
   "cell_type": "code",
   "execution_count": null,
   "id": "2f15c4b9",
   "metadata": {},
   "outputs": [],
   "source": []
  }
 ],
 "metadata": {
  "kernelspec": {
   "display_name": "Python 3 (ipykernel)",
   "language": "python",
   "name": "python3"
  },
  "language_info": {
   "codemirror_mode": {
    "name": "ipython",
    "version": 3
   },
   "file_extension": ".py",
   "mimetype": "text/x-python",
   "name": "python",
   "nbconvert_exporter": "python",
   "pygments_lexer": "ipython3",
   "version": "3.9.7"
  }
 },
 "nbformat": 4,
 "nbformat_minor": 5
}
